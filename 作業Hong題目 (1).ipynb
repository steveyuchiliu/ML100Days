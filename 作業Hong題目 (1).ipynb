{
 "cells": [
  {
   "cell_type": "markdown",
   "metadata": {
    "id": "oef8c2jr-PZY"
   },
   "source": [
    "作業目標<br>\n",
    "計算有缺失值的資料，統計量實作<br>\n",
    "作業重點<br>\n",
    "當遇到缺失值有函式可以處理，不須額外寫程式刪除<br>\n",
    "計算統計量時不能出現缺失值"
   ]
  },
  {
   "cell_type": "markdown",
   "metadata": {
    "id": "4YgL8NF4-Ru3"
   },
   "source": [
    "題目:<br>\n",
    "english_score = np.array([55,89,76,65,48,70])<br>\n",
    "math_score = np.array([60,85,60,68,np.nan,60])<br>\n",
    "chinese_score = np.array([65,90,82,72,66,77])<br>\n",
    "上3列共六位同學的英文、數學、國文成績，第一個元素代表第一位同學，舉例第一位同學英文55分、數學60分、國文65分，今天第五位同學因某原因沒來考試，導致數學成績缺值，運用上列數據回答下列問題。<br>\n",
    "1. 請計算各科成績平均、最大值、最小值、標準差，其中數學缺一筆資料可忽略?\n",
    "2. 第五位同學補考數學後成績為55，請計算補考後數學成績平均、最大值、最小值、標準差?\n",
    "3. 用補考後資料找出與國文成績相關係數最高的學科?"
   ]
  },
  {
   "cell_type": "code",
   "execution_count": 36,
   "metadata": {
    "collapsed": true,
    "executionInfo": {
     "elapsed": 617,
     "status": "ok",
     "timestamp": 1609854566856,
     "user": {
      "displayName": "献竤黃",
      "photoUrl": "",
      "userId": "07529243043474362942"
     },
     "user_tz": -480
    },
    "id": "QwsKU8qO-RK7"
   },
   "outputs": [],
   "source": [
    "import numpy as np"
   ]
  },
  {
   "cell_type": "code",
   "execution_count": 37,
   "metadata": {
    "collapsed": true,
    "executionInfo": {
     "elapsed": 1016,
     "status": "ok",
     "timestamp": 1609854567261,
     "user": {
      "displayName": "献竤黃",
      "photoUrl": "",
      "userId": "07529243043474362942"
     },
     "user_tz": -480
    },
    "id": "B5BqDQAe_czh"
   },
   "outputs": [],
   "source": [
    "english_score = np.array([55,89,76,65,48,70])\n",
    "math_score = np.array([60,85,60,68,np.nan,60])\n",
    "chinese_score = np.array([65,90,82,72,66,77])"
   ]
  },
  {
   "cell_type": "code",
   "execution_count": 38,
   "metadata": {
    "executionInfo": {
     "elapsed": 1005,
     "status": "ok",
     "timestamp": 1609854567262,
     "user": {
      "displayName": "献竤黃",
      "photoUrl": "",
      "userId": "07529243043474362942"
     },
     "user_tz": -480
    },
    "id": "K3tUA6u9aI3N"
   },
   "outputs": [
    {
     "name": "stdout",
     "output_type": "stream",
     "text": [
      "英文科最高分:89   英文科最低分:48   英文科平均:67.1666666667   英文科標準差:13.4339950209\n",
      "國文科最高分:90   國文科最低分:65   國文科平均:75.3333333333   國文科標準差:8.82546819658\n",
      "數學科最高分:85.0   數學科最低分:60.0   數學科平均:66.6   數學科標準差:9.70772887961\n"
     ]
    }
   ],
   "source": [
    "#1. 請計算各科成績平均、最大值、最小值、標準差，其中數學缺一筆資料可忽略?\n",
    "English_max=np.max(english_score)\n",
    "English_min=np.min(english_score)\n",
    "English_mean=np.mean(english_score)\n",
    "English_std=np.std(english_score)\n",
    "print('英文科最高分:'+str(English_max)+'   英文科最低分:'+str(English_min)+'   英文科平均:'+str(English_mean)+'   英文科標準差:'+str(English_std))\n",
    "\n",
    "Chinese_max=np.max(chinese_score)\n",
    "Chinese_min=np.min(chinese_score)\n",
    "Chinese_mean=np.mean(chinese_score)\n",
    "Chinese_std=np.std(chinese_score)\n",
    "print('國文科最高分:'+str(Chinese_max)+'   國文科最低分:'+str(Chinese_min)+'   國文科平均:'+str(Chinese_mean)+'   國文科標準差:'+str(Chinese_std))\n",
    "\n",
    "Math_max=np.nanmax(math_score)\n",
    "Math_min=np.nanmin(math_score)\n",
    "Math_mean=np.nanmean(math_score)\n",
    "Math_std=np.nanstd(math_score)\n",
    "print('數學科最高分:'+str(Math_max)+'   數學科最低分:'+str(Math_min)+'   數學科平均:'+str(Math_mean)+'   數學科標準差:'+str(Math_std))\n"
   ]
  },
  {
   "cell_type": "code",
   "execution_count": 39,
   "metadata": {
    "executionInfo": {
     "elapsed": 996,
     "status": "ok",
     "timestamp": 1609854567262,
     "user": {
      "displayName": "献竤黃",
      "photoUrl": "",
      "userId": "07529243043474362942"
     },
     "user_tz": -480
    },
    "id": "mXjDzvSrbLlf"
   },
   "outputs": [
    {
     "name": "stdout",
     "output_type": "stream",
     "text": [
      "數學科最高分:85   數學科最低分:55   數學科平均:64.6666666667   數學科標準差:9.86013297183\n"
     ]
    }
   ],
   "source": [
    "math_score = np.array([60,85,60,68,55,60])\n",
    "Math_max=np.max(math_score)\n",
    "Math_min=np.min(math_score)\n",
    "Math_mean=np.mean(math_score)\n",
    "Math_std=np.std(math_score)\n",
    "print('數學科最高分:'+str(Math_max)+'   數學科最低分:'+str(Math_min)+'   數學科平均:'+str(Math_mean)+'   數學科標準差:'+str(Math_std))\n"
   ]
  },
  {
   "cell_type": "code",
   "execution_count": 40,
   "metadata": {
    "executionInfo": {
     "elapsed": 989,
     "status": "ok",
     "timestamp": 1609854567264,
     "user": {
      "displayName": "献竤黃",
      "photoUrl": "",
      "userId": "07529243043474362942"
     },
     "user_tz": -480
    },
    "id": "SaGolKx0cKoU"
   },
   "outputs": [
    {
     "name": "stdout",
     "output_type": "stream",
     "text": [
      "[[ 1.          0.74056803]\n",
      " [ 0.74056803  1.        ]]\n",
      "[[ 1.         0.7855563]\n",
      " [ 0.7855563  1.       ]]\n"
     ]
    }
   ],
   "source": [
    "#3. 用補考後資料找出與國文成績相關係數最高的學科?\n",
    "math_chinese_cor=np.corrcoef(math_score,chinese_score)\n",
    "Eng_chinese_cor=np.corrcoef(math_score,english_score)\n",
    "print(math_chinese_cor)\n",
    "print(Eng_chinese_cor)"
   ]
  },
  {
   "cell_type": "code",
   "execution_count": null,
   "metadata": {
    "collapsed": true,
    "executionInfo": {
     "elapsed": 987,
     "status": "ok",
     "timestamp": 1609854567264,
     "user": {
      "displayName": "献竤黃",
      "photoUrl": "",
      "userId": "07529243043474362942"
     },
     "user_tz": -480
    },
    "id": "fTNlLZ9Pzyiy"
   },
   "outputs": [],
   "source": []
  }
 ],
 "metadata": {
  "colab": {
   "authorship_tag": "ABX9TyPtywwDR7TsGGEOMGYLDT5h",
   "collapsed_sections": [],
   "name": "作業Hong題目.ipynb",
   "provenance": []
  },
  "kernelspec": {
   "display_name": "Python 3",
   "language": "python",
   "name": "python3"
  },
  "language_info": {
   "codemirror_mode": {
    "name": "ipython",
    "version": 3
   },
   "file_extension": ".py",
   "mimetype": "text/x-python",
   "name": "python",
   "nbconvert_exporter": "python",
   "pygments_lexer": "ipython3",
   "version": "3.6.2"
  }
 },
 "nbformat": 4,
 "nbformat_minor": 1
}
